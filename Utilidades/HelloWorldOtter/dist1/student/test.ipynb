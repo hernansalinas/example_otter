{
 "cells": [
  {
   "cell_type": "code",
   "execution_count": 3,
   "id": "c613300a",
   "metadata": {
    "deletable": false,
    "editable": false
   },
   "outputs": [],
   "source": [
    "# Initialize Otter\n",
    "import otter\n",
    "grader = otter.Notebook(\"test.ipynb\")"
   ]
  },
  {
   "cell_type": "code",
   "execution_count": 4,
   "id": "5e294be5-e28d-4899-8c86-a2106ef57083",
   "metadata": {
    "slideshow": {
     "slide_type": ""
    },
    "tags": []
   },
   "outputs": [],
   "source": [
    "import pandas as pd\n",
    "import numpy as np\n",
    "import matplotlib.pylab as plt\n",
    "%matplotlib inline\n",
    "from datascience import *\n",
    "path=\"https://raw.githubusercontent.com/fundatosudea/material_20242/develop_otter\""
   ]
  },
  {
   "cell_type": "markdown",
   "id": "c6811490-252f-4a8d-a45f-e2a08820f251",
   "metadata": {
    "deletable": false,
    "editable": false
   },
   "source": [
    "<!-- BEGIN QUESTION -->\n",
    "\n",
    "Ingresa tu nombre  con apellido y número de carnet en las variables dadas más abajo:\n",
    "Ejemplo:\n",
    "```python\n",
    "NombreApellidos=\"Lisa Simpson\"\n",
    "NumeroCarnet=\"27182818\"\n",
    "```"
   ]
  },
  {
   "cell_type": "code",
   "execution_count": 5,
   "id": "f20a9642-8cde-4c85-a3c6-74a33f2e888a",
   "metadata": {
    "tags": []
   },
   "outputs": [],
   "source": [
    "NombreApellidos=\"...\"\n",
    "NumeroCarnet=\"..\"\n",
    "Email=\"...\""
   ]
  },
  {
   "cell_type": "code",
   "execution_count": 6,
   "id": "a7cf26a3",
   "metadata": {
    "deletable": false,
    "editable": false
   },
   "outputs": [
    {
     "data": {
      "text/html": [
       "<p><strong style='color: red;'><pre style='display: inline;'>qt</pre> results:</strong></p><p><strong><pre style='display: inline;'>qt - 1</pre> result:</strong></p><pre>    ❌ Test case failed\n",
       "    Trying:\n",
       "        assert isinstance(NombreApellidos, str)\n",
       "    Expecting nothing\n",
       "    ok\n",
       "    Trying:\n",
       "        assert isinstance(NumeroCarnet, str)\n",
       "    Expecting nothing\n",
       "    ok\n",
       "    Trying:\n",
       "        assert isinstance(Email, str)\n",
       "    Expecting nothing\n",
       "    ok\n",
       "    Trying:\n",
       "        assert len(NombreApellidos) > 3\n",
       "    Expecting nothing\n",
       "    **********************************************************************\n",
       "    Line 4, in qt 0\n",
       "    Failed example:\n",
       "        assert len(NombreApellidos) > 3\n",
       "    Exception raised:\n",
       "        Traceback (most recent call last):\n",
       "          File \"/Users/neuman/anaconda3/envs/data8/lib/python3.10/doctest.py\", line 1350, in __run\n",
       "            exec(compile(example.source, filename, \"single\",\n",
       "          File \"<doctest qt 0[3]>\", line 1, in <module>\n",
       "            assert len(NombreApellidos) > 3\n",
       "        AssertionError\n",
       "    Trying:\n",
       "        assert len(NumeroCarnet) > 3\n",
       "    Expecting nothing\n",
       "    **********************************************************************\n",
       "    Line 5, in qt 0\n",
       "    Failed example:\n",
       "        assert len(NumeroCarnet) > 3\n",
       "    Exception raised:\n",
       "        Traceback (most recent call last):\n",
       "          File \"/Users/neuman/anaconda3/envs/data8/lib/python3.10/doctest.py\", line 1350, in __run\n",
       "            exec(compile(example.source, filename, \"single\",\n",
       "          File \"<doctest qt 0[4]>\", line 1, in <module>\n",
       "            assert len(NumeroCarnet) > 3\n",
       "        AssertionError\n",
       "    Trying:\n",
       "        assert len(Email) > 3\n",
       "    Expecting nothing\n",
       "    **********************************************************************\n",
       "    Line 6, in qt 0\n",
       "    Failed example:\n",
       "        assert len(Email) > 3\n",
       "    Exception raised:\n",
       "        Traceback (most recent call last):\n",
       "          File \"/Users/neuman/anaconda3/envs/data8/lib/python3.10/doctest.py\", line 1350, in __run\n",
       "            exec(compile(example.source, filename, \"single\",\n",
       "          File \"<doctest qt 0[5]>\", line 1, in <module>\n",
       "            assert len(Email) > 3\n",
       "        AssertionError\n",
       "</pre>"
      ],
      "text/plain": [
       "qt results:\n",
       "    qt - 1 result:\n",
       "        ❌ Test case failed\n",
       "        Trying:\n",
       "            assert isinstance(NombreApellidos, str)\n",
       "        Expecting nothing\n",
       "        ok\n",
       "        Trying:\n",
       "            assert isinstance(NumeroCarnet, str)\n",
       "        Expecting nothing\n",
       "        ok\n",
       "        Trying:\n",
       "            assert isinstance(Email, str)\n",
       "        Expecting nothing\n",
       "        ok\n",
       "        Trying:\n",
       "            assert len(NombreApellidos) > 3\n",
       "        Expecting nothing\n",
       "        **********************************************************************\n",
       "        Line 4, in qt 0\n",
       "        Failed example:\n",
       "            assert len(NombreApellidos) > 3\n",
       "        Exception raised:\n",
       "            Traceback (most recent call last):\n",
       "              File \"/Users/neuman/anaconda3/envs/data8/lib/python3.10/doctest.py\", line 1350, in __run\n",
       "                exec(compile(example.source, filename, \"single\",\n",
       "              File \"<doctest qt 0[3]>\", line 1, in <module>\n",
       "                assert len(NombreApellidos) > 3\n",
       "            AssertionError\n",
       "        Trying:\n",
       "            assert len(NumeroCarnet) > 3\n",
       "        Expecting nothing\n",
       "        **********************************************************************\n",
       "        Line 5, in qt 0\n",
       "        Failed example:\n",
       "            assert len(NumeroCarnet) > 3\n",
       "        Exception raised:\n",
       "            Traceback (most recent call last):\n",
       "              File \"/Users/neuman/anaconda3/envs/data8/lib/python3.10/doctest.py\", line 1350, in __run\n",
       "                exec(compile(example.source, filename, \"single\",\n",
       "              File \"<doctest qt 0[4]>\", line 1, in <module>\n",
       "                assert len(NumeroCarnet) > 3\n",
       "            AssertionError\n",
       "        Trying:\n",
       "            assert len(Email) > 3\n",
       "        Expecting nothing\n",
       "        **********************************************************************\n",
       "        Line 6, in qt 0\n",
       "        Failed example:\n",
       "            assert len(Email) > 3\n",
       "        Exception raised:\n",
       "            Traceback (most recent call last):\n",
       "              File \"/Users/neuman/anaconda3/envs/data8/lib/python3.10/doctest.py\", line 1350, in __run\n",
       "                exec(compile(example.source, filename, \"single\",\n",
       "              File \"<doctest qt 0[5]>\", line 1, in <module>\n",
       "                assert len(Email) > 3\n",
       "            AssertionError"
      ]
     },
     "execution_count": 6,
     "metadata": {},
     "output_type": "execute_result"
    }
   ],
   "source": [
    "grader.check(\"qt\")"
   ]
  },
  {
   "cell_type": "markdown",
   "id": "89e7d865-cd9f-4907-886e-dbb157be54ad",
   "metadata": {
    "deletable": false,
    "editable": false,
    "slideshow": {
     "slide_type": ""
    },
    "tags": []
   },
   "source": [
    "<!-- END QUESTION -->\n",
    "\n",
    "P1. Esta es una pregunta de pruena\n"
   ]
  },
  {
   "cell_type": "code",
   "execution_count": 7,
   "id": "797eb1e0-e2a0-4304-b808-7e4c9ac2ec1e",
   "metadata": {
    "slideshow": {
     "slide_type": ""
    },
    "tags": []
   },
   "outputs": [],
   "source": [
    "characters_q1 = ..."
   ]
  },
  {
   "cell_type": "code",
   "execution_count": 8,
   "id": "563d0a76",
   "metadata": {
    "deletable": false,
    "editable": false
   },
   "outputs": [
    {
     "data": {
      "text/html": [
       "<p><strong style='color: red;'><pre style='display: inline;'>q1</pre> results:</strong></p><p><strong><pre style='display: inline;'>q1 - 1</pre> result:</strong></p><pre>    ❌ Test case failed\n",
       "    Trying:\n",
       "        assert characters_q1 == 5\n",
       "    Expecting nothing\n",
       "    **********************************************************************\n",
       "    Line 1, in q1 0\n",
       "    Failed example:\n",
       "        assert characters_q1 == 5\n",
       "    Exception raised:\n",
       "        Traceback (most recent call last):\n",
       "          File \"/Users/neuman/anaconda3/envs/data8/lib/python3.10/doctest.py\", line 1350, in __run\n",
       "            exec(compile(example.source, filename, \"single\",\n",
       "          File \"<doctest q1 0[0]>\", line 1, in <module>\n",
       "            assert characters_q1 == 5\n",
       "        AssertionError\n",
       "</pre>"
      ],
      "text/plain": [
       "q1 results:\n",
       "    q1 - 1 result:\n",
       "        ❌ Test case failed\n",
       "        Trying:\n",
       "            assert characters_q1 == 5\n",
       "        Expecting nothing\n",
       "        **********************************************************************\n",
       "        Line 1, in q1 0\n",
       "        Failed example:\n",
       "            assert characters_q1 == 5\n",
       "        Exception raised:\n",
       "            Traceback (most recent call last):\n",
       "              File \"/Users/neuman/anaconda3/envs/data8/lib/python3.10/doctest.py\", line 1350, in __run\n",
       "                exec(compile(example.source, filename, \"single\",\n",
       "              File \"<doctest q1 0[0]>\", line 1, in <module>\n",
       "                assert characters_q1 == 5\n",
       "            AssertionError"
      ]
     },
     "execution_count": 8,
     "metadata": {},
     "output_type": "execute_result"
    }
   ],
   "source": [
    "grader.check(\"q1\")"
   ]
  },
  {
   "cell_type": "markdown",
   "id": "765a9ad0",
   "metadata": {
    "deletable": false,
    "editable": false
   },
   "source": [
    "## Submission\n",
    "\n",
    "Make sure you have run all cells in your notebook in order before running the cell below, so that all images/graphs appear in the output. The cell below will generate a zip file for you to submit. **Please save before exporting!**\n",
    "\n",
    "These are some submission instructions."
   ]
  },
  {
   "cell_type": "code",
   "execution_count": 9,
   "id": "7c022763",
   "metadata": {
    "deletable": false,
    "editable": false
   },
   "outputs": [
    {
     "name": "stdout",
     "output_type": "stream",
     "text": [
      "Running your submission against local test cases...\n",
      "\n",
      "\n",
      "Your submission received the following results when run against available test cases:\n",
      "\n",
      "    qt results:\n",
      "        qt - 1 result:\n",
      "            ❌ Test case failed\n",
      "            Trying:\n",
      "                assert isinstance(NombreApellidos, str)\n",
      "            Expecting nothing\n",
      "            ok\n",
      "            Trying:\n",
      "                assert isinstance(NumeroCarnet, str)\n",
      "            Expecting nothing\n",
      "            ok\n",
      "            Trying:\n",
      "                assert isinstance(Email, str)\n",
      "            Expecting nothing\n",
      "            ok\n",
      "            Trying:\n",
      "                assert len(NombreApellidos) > 3\n",
      "            Expecting nothing\n",
      "            **********************************************************************\n",
      "            Line 4, in qt 0\n",
      "            Failed example:\n",
      "                assert len(NombreApellidos) > 3\n",
      "            Exception raised:\n",
      "                Traceback (most recent call last):\n",
      "                  File \"/Users/neuman/anaconda3/envs/data8/lib/python3.10/doctest.py\", line 1350, in __run\n",
      "                    exec(compile(example.source, filename, \"single\",\n",
      "                  File \"<doctest qt 0[3]>\", line 1, in <module>\n",
      "                    assert len(NombreApellidos) > 3\n",
      "                AssertionError\n",
      "            Trying:\n",
      "                assert len(NumeroCarnet) > 3\n",
      "            Expecting nothing\n",
      "            **********************************************************************\n",
      "            Line 5, in qt 0\n",
      "            Failed example:\n",
      "                assert len(NumeroCarnet) > 3\n",
      "            Exception raised:\n",
      "                Traceback (most recent call last):\n",
      "                  File \"/Users/neuman/anaconda3/envs/data8/lib/python3.10/doctest.py\", line 1350, in __run\n",
      "                    exec(compile(example.source, filename, \"single\",\n",
      "                  File \"<doctest qt 0[4]>\", line 1, in <module>\n",
      "                    assert len(NumeroCarnet) > 3\n",
      "                AssertionError\n",
      "            Trying:\n",
      "                assert len(Email) > 3\n",
      "            Expecting nothing\n",
      "            **********************************************************************\n",
      "            Line 6, in qt 0\n",
      "            Failed example:\n",
      "                assert len(Email) > 3\n",
      "            Exception raised:\n",
      "                Traceback (most recent call last):\n",
      "                  File \"/Users/neuman/anaconda3/envs/data8/lib/python3.10/doctest.py\", line 1350, in __run\n",
      "                    exec(compile(example.source, filename, \"single\",\n",
      "                  File \"<doctest qt 0[5]>\", line 1, in <module>\n",
      "                    assert len(Email) > 3\n",
      "                AssertionError\n",
      "\n",
      "    q1 results:\n",
      "        q1 - 1 result:\n",
      "            ❌ Test case failed\n",
      "            Trying:\n",
      "                assert characters_q1 == 5\n",
      "            Expecting nothing\n",
      "            **********************************************************************\n",
      "            Line 1, in q1 0\n",
      "            Failed example:\n",
      "                assert characters_q1 == 5\n",
      "            Exception raised:\n",
      "                Traceback (most recent call last):\n",
      "                  File \"/Users/neuman/anaconda3/envs/data8/lib/python3.10/doctest.py\", line 1350, in __run\n",
      "                    exec(compile(example.source, filename, \"single\",\n",
      "                  File \"<doctest q1 0[0]>\", line 1, in <module>\n",
      "                    assert characters_q1 == 5\n",
      "                AssertionError\n"
     ]
    },
    {
     "data": {
      "text/html": [
       "\n",
       "                    <p>\n",
       "                        Your submission has been exported. Click\n",
       "                        <a href=\"test_2024_08_25T07_05_22_193867.zip\" download=\"test_2024_08_25T07_05_22_193867.zip\" target=\"_blank\">here</a> to download\n",
       "                        the zip file.\n",
       "                    </p>\n",
       "                "
      ],
      "text/plain": [
       "<IPython.core.display.HTML object>"
      ]
     },
     "metadata": {},
     "output_type": "display_data"
    }
   ],
   "source": [
    "# Save your notebook first, then run this cell to export your submission.\n",
    "grader.export(run_tests=True)"
   ]
  },
  {
   "cell_type": "markdown",
   "id": "dccb9767",
   "metadata": {},
   "source": [
    " "
   ]
  }
 ],
 "metadata": {
  "kernelspec": {
   "display_name": "Python 3 (ipykernel)",
   "language": "python",
   "name": "python3"
  },
  "language_info": {
   "codemirror_mode": {
    "name": "ipython",
    "version": 3
   },
   "file_extension": ".py",
   "mimetype": "text/x-python",
   "name": "python",
   "nbconvert_exporter": "python",
   "pygments_lexer": "ipython3",
   "version": "3.10.14"
  },
  "otter": {
   "OK_FORMAT": true,
   "assignment_name": "holaMundo",
   "tests": {
    "q1": {
     "name": "q1",
     "points": 1,
     "suites": [
      {
       "cases": [
        {
         "code": ">>> assert characters_q1 == 5\n",
         "hidden": false,
         "locked": false
        }
       ],
       "scored": true,
       "setup": "",
       "teardown": "",
       "type": "doctest"
      }
     ]
    },
    "qt": {
     "name": "qt",
     "points": 0,
     "suites": [
      {
       "cases": [
        {
         "code": ">>> assert isinstance(NombreApellidos, str)\n>>> assert isinstance(NumeroCarnet, str)\n>>> assert isinstance(Email, str)\n>>> assert len(NombreApellidos) > 3\n>>> assert len(NumeroCarnet) > 3\n>>> assert len(Email) > 3\n",
         "hidden": false,
         "locked": false
        }
       ],
       "scored": true,
       "setup": "",
       "teardown": "",
       "type": "doctest"
      }
     ]
    }
   }
  }
 },
 "nbformat": 4,
 "nbformat_minor": 5
}
