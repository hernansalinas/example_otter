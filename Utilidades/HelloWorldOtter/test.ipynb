{
 "cells": [
  {
   "cell_type": "raw",
   "id": "7f111e0a-5474-4abb-94b9-6261776a05f6",
   "metadata": {},
   "source": [
    "# ASSIGNMENT CONFIG\n",
    "name: \"holaMundo\" \n",
    "solutions_pdf: true\n",
    "export_cell:\n",
    "    instructions: \"These are some submission instructions.\"\n",
    "generate: \n",
    "    pdf: true\n",
    "    filtering: true\n",
    "    pagebreaks: true\n",
    "    zips: false"
   ]
  },
  {
   "cell_type": "code",
   "execution_count": 5,
   "id": "5e294be5-e28d-4899-8c86-a2106ef57083",
   "metadata": {
    "slideshow": {
     "slide_type": ""
    },
    "tags": []
   },
   "outputs": [],
   "source": [
    "import pandas as pd\n",
    "import numpy as np\n",
    "import matplotlib.pylab as plt\n",
    "%matplotlib inline\n",
    "from datascience import *\n",
    "path=\"https://raw.githubusercontent.com/fundatosudea/material_20242/develop_otter\""
   ]
  },
  {
   "cell_type": "raw",
   "id": "a5376693-9147-41e0-8e36-ca8e0ff78ba3",
   "metadata": {},
   "source": [
    "# BEGIN QUESTION\n",
    "name: qt\n",
    "manual: true\n",
    "points: 0"
   ]
  },
  {
   "cell_type": "markdown",
   "id": "c6811490-252f-4a8d-a45f-e2a08820f251",
   "metadata": {},
   "source": [
    "Ingresa tu nombre  con apellido y número de carnet en las variables dadas en la celda siguiente:\n",
    "Ejemplo:\n",
    "```python\n",
    "NombreApellidos=\"Lisa Simpson\"\n",
    "NumeroCarnet=\"27182818\"\n",
    "Email=\"lisa.simpson@udea.edu.co\"\n",
    "```"
   ]
  },
  {
   "cell_type": "raw",
   "id": "d2ff24e2-20b1-43b6-bad5-4188f5378a35",
   "metadata": {},
   "source": [
    "# BEGIN SOLUTION"
   ]
  },
  {
   "cell_type": "code",
   "execution_count": 7,
   "id": "f20a9642-8cde-4c85-a3c6-74a33f2e888a",
   "metadata": {},
   "outputs": [
    {
     "data": {
      "text/plain": [
       "' # BEGIN PROMPT\\nNombreApellidos=\"...\"\\nNumeroCarnet=\"..\"\\nEmail=\"...\"\\n'"
      ]
     },
     "execution_count": 7,
     "metadata": {},
     "output_type": "execute_result"
    }
   ],
   "source": [
    "# BEGIN SOLUTION NO PROMPT\n",
    "NombreApellidos=\"Lisa Simpson\"\n",
    "NumeroCarnet=\"27182818\"\n",
    "Email=\"homero.simpson@udea.edu.co\"\n",
    "# END SOLUTION\n",
    "\"\"\" # BEGIN PROMPT\n",
    "NombreApellidos=\"...\"\n",
    "NumeroCarnet=\"..\"\n",
    "Email=\"...\"\n",
    "\"\"\" # END PROMPT"
   ]
  },
  {
   "cell_type": "raw",
   "id": "bc1049aa-d974-4894-8afa-b5874ffdad7a",
   "metadata": {},
   "source": [
    "# END SOLUTION"
   ]
  },
  {
   "cell_type": "raw",
   "id": "5549304e-1ed0-45fe-9df8-7a7b9a7f2fd3",
   "metadata": {},
   "source": [
    "# BEGIN TESTS"
   ]
  },
  {
   "cell_type": "code",
   "execution_count": 4,
   "id": "aced5320-241c-4d14-9a30-938c2badcd62",
   "metadata": {},
   "outputs": [],
   "source": [
    "assert isinstance(NombreApellidos, str)\n",
    "assert isinstance(NumeroCarnet, str)\n",
    "assert isinstance(Email, str)\n",
    "assert len(NombreApellidos)>3\n",
    "assert len(NumeroCarnet)>3\n",
    "assert len(Email)>3"
   ]
  },
  {
   "cell_type": "raw",
   "id": "06678dd0-a86a-4fe3-bab9-8be11dd248dc",
   "metadata": {},
   "source": [
    "# END TESTS"
   ]
  },
  {
   "cell_type": "raw",
   "id": "2baea5d4-ac13-463f-9cba-a06972cce16b",
   "metadata": {},
   "source": [
    "# END QUESTION"
   ]
  },
  {
   "cell_type": "raw",
   "id": "ef03181c-ad03-4f41-b5d3-65657c52130d",
   "metadata": {
    "raw_mimetype": "",
    "slideshow": {
     "slide_type": ""
    },
    "tags": []
   },
   "source": [
    "# BEGIN QUESTION\n",
    "name: q1\n",
    "manual: false\n",
    "points: 1"
   ]
  },
  {
   "cell_type": "markdown",
   "id": "89e7d865-cd9f-4907-886e-dbb157be54ad",
   "metadata": {
    "slideshow": {
     "slide_type": ""
    },
    "tags": []
   },
   "source": [
    "P1. Esta es una pregunta de pruena\n"
   ]
  },
  {
   "cell_type": "raw",
   "id": "4ca05bf6-9a7a-4d26-884f-b8cd6f08dc77",
   "metadata": {
    "raw_mimetype": "",
    "slideshow": {
     "slide_type": ""
    },
    "tags": []
   },
   "source": [
    "# BEGIN SOLUTION"
   ]
  },
  {
   "cell_type": "code",
   "execution_count": 5,
   "id": "797eb1e0-e2a0-4304-b808-7e4c9ac2ec1e",
   "metadata": {
    "slideshow": {
     "slide_type": ""
    },
    "tags": []
   },
   "outputs": [
    {
     "data": {
      "text/plain": [
       "' # BEGIN PROMPT\\ncharacters_q1 = ...\\n'"
      ]
     },
     "execution_count": 5,
     "metadata": {},
     "output_type": "execute_result"
    }
   ],
   "source": [
    "# BEGIN SOLUTION NO PROMPT\n",
    "characters_q1 = 5\n",
    "# END SOLUTION\n",
    "\"\"\" # BEGIN PROMPT\n",
    "characters_q1 = ...\n",
    "\"\"\" # END PROMPT"
   ]
  },
  {
   "cell_type": "raw",
   "id": "32f968d7-c3a5-4783-8a26-3dff85e000a0",
   "metadata": {
    "raw_mimetype": "",
    "slideshow": {
     "slide_type": ""
    },
    "tags": []
   },
   "source": [
    "# END SOLUTION"
   ]
  },
  {
   "cell_type": "raw",
   "id": "81cdb982-19c2-4735-b1eb-81e9fb7b5b48",
   "metadata": {
    "raw_mimetype": "",
    "slideshow": {
     "slide_type": ""
    },
    "tags": []
   },
   "source": [
    "# BEGIN TESTS"
   ]
  },
  {
   "cell_type": "code",
   "execution_count": 6,
   "id": "51db2425-8bb4-479a-be69-b130b5f33681",
   "metadata": {
    "slideshow": {
     "slide_type": ""
    },
    "tags": []
   },
   "outputs": [],
   "source": [
    "assert (characters_q1 == 5)"
   ]
  },
  {
   "cell_type": "raw",
   "id": "40f97cef-87e2-463a-9b8c-c854c988a821",
   "metadata": {
    "raw_mimetype": "",
    "slideshow": {
     "slide_type": ""
    },
    "tags": []
   },
   "source": [
    "# END TESTS"
   ]
  },
  {
   "cell_type": "raw",
   "id": "d6d6fa8d-7e5f-45ba-80c9-47cd37c306ad",
   "metadata": {
    "raw_mimetype": "",
    "slideshow": {
     "slide_type": ""
    },
    "tags": []
   },
   "source": [
    "# END QUESTION"
   ]
  }
 ],
 "metadata": {
  "kernelspec": {
   "display_name": "Python 3 (ipykernel)",
   "language": "python",
   "name": "python3"
  },
  "language_info": {
   "codemirror_mode": {
    "name": "ipython",
    "version": 3
   },
   "file_extension": ".py",
   "mimetype": "text/x-python",
   "name": "python",
   "nbconvert_exporter": "python",
   "pygments_lexer": "ipython3",
   "version": "3.10.9"
  }
 },
 "nbformat": 4,
 "nbformat_minor": 5
}
